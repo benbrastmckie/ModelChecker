{
 "cells": [
  {
   "cell_type": "markdown",
   "id": "header",
   "metadata": {},
   "source": [
    "# Imposition Semantics: Kit Fine's Truthmaker Counterfactuals\n",
    "\n",
    "This notebook explores Kit Fine's imposition semantic framework for counterfactual reasoning. The imposition operation creates alternative worlds by imposing states upon existing worlds, providing a truthmaker-based approach to counterfactuals that differs from traditional similarity-based semantics.\n",
    "\n",
    "We'll examine both **countermodels** (showing failures of classical counterfactual principles) and **theorems** (showing what principles hold) to understand this innovative approach to counterfactual logic.\n",
    "\n",
    "## Setup and Theory Configuration"
   ]
  },
  {
   "cell_type": "code",
   "execution_count": 1,
   "id": "setup",
   "metadata": {},
   "outputs": [
    {
     "name": "stdout",
     "output_type": "stream",
     "text": [
      "Loaded imposition theory with Kit Fine's truthmaker semantics\n",
      "Key operators: □→ (would-counterfactual), ◇→ (might-counterfactual)\n"
     ]
    }
   ],
   "source": [
    "# Import required modules for imposition semantics\n",
    "import sys\n",
    "from model_checker.jupyter import create_build_example, build_and_check\n",
    "\n",
    "# Import imposition semantic components\n",
    "from model_checker.theory_lib.imposition.semantic import ImpositionSemantics\n",
    "from model_checker.theory_lib.imposition.operators import imposition_operators\n",
    "from model_checker.theory_lib.imposition import Proposition, ModelStructure\n",
    "\n",
    "# Define the imposition semantic theory\n",
    "imposition_theory = {\n",
    "    \"semantics\": ImpositionSemantics,\n",
    "    \"proposition\": Proposition,\n",
    "    \"model\": ModelStructure,\n",
    "    \"operators\": imposition_operators,\n",
    "}\n",
    "\n",
    "print(f\"Loaded imposition theory with Kit Fine's truthmaker semantics\")\n",
    "print(f\"Key operators: □→ (would-counterfactual), ◇→ (might-counterfactual)\")"
   ]
  },
  {
   "cell_type": "markdown",
   "id": "section-1",
   "metadata": {},
   "source": [
    "---\n",
    "\n",
    "## Example 1: Antecedent Strengthening Failure\n",
    "\n",
    "### Background\n",
    "One of the most important failures in counterfactual logic is *antecedent strengthening*. Just because \"if A were true, C would be true\" doesn't mean that \"if A and B were true, C would be true\". This failure is crucial for avoiding the paradoxes that plague material implication.\n",
    "\n",
    "### The Argument\n",
    "- **Premises**: ¬A (A is false), A □→ C (if A were true, C would be true)\n",
    "- **Invalid Conclusion**: (A ∧ B) □→ C (if A and B were true, C would be true)\n",
    "- **Why it fails**: The imposition of A∧B creates a different alternative than imposing just A"
   ]
  },
  {
   "cell_type": "code",
   "execution_count": null,
   "id": "im-cm-1",
   "metadata": {},
   "outputs": [],
   "source": "# IM_CM_1: Test counterfactual antecedent strengthening\nIM_CM_1_example = [\n    ['\\\\neg A', '(A \\\\boxright C)'],       # Premises\n    ['((A \\\\wedge B) \\\\boxright C)'],      # Conclusion (invalid!)\n    {\n        'N': 4,\n        'contingent': True,\n        'non_null': True,\n        'non_empty': True,\n        'disjoint': False,\n        'max_time': 10,\n        'iterate': 1,\n        'expectation': True,  # We expect a countermodel\n    }\n]\n\nprint(\"Running model checker...\")\nmodel = create_build_example('IM_CM_1', imposition_theory, IM_CM_1_example)\n\n# Display the countermodel if found\nif model.model_structure.z3_model:\n    model.model_structure.print_to(\n        model.settings,\n        'IM_CM_1',\n        'Antecedent Strengthening',\n        output=sys.stdout\n    )\nelse:\n    print(\"No countermodel found (unexpected!)\")"
  },
  {
   "cell_type": "markdown",
   "id": "result-1",
   "metadata": {},
   "source": [
    "### Result Interpretation\n",
    "The countermodel demonstrates how imposition semantics avoids the monotonicity problems of material implication. Different states impose different alternative worlds, so strengthening the antecedent can change which worlds are relevant for evaluation.\n",
    "\n",
    "---\n",
    "\n",
    "## Example 2: Transitivity Failure\n",
    "\n",
    "### Background\n",
    "*Transitivity* of counterfactuals (if A□→B and B□→C, then A□→C) fails in imposition semantics. This captures the intuition that chains of counterfactual reasoning can break down - the world where B holds due to A might be different from the world where we directly evaluate B.\n",
    "\n",
    "### The Argument\n",
    "- **Premises**: A □→ B, B □→ C\n",
    "- **Invalid Conclusion**: A □→ C\n",
    "- **Why it fails**: The B-world created by imposing A may differ from directly imposing B"
   ]
  },
  {
   "cell_type": "code",
   "execution_count": null,
   "id": "im-cm-10",
   "metadata": {},
   "outputs": [],
   "source": "# IM_CM_10: Test counterfactual transitivity\nIM_CM_10_example = [\n    ['(A \\\\boxright B)', '(B \\\\boxright C)'],  # Premises\n    ['(A \\\\boxright C)'],                        # Conclusion (invalid!)\n    {\n        'N': 3,\n        'contingent': True,\n        'non_null': True,\n        'non_empty': True,\n        'disjoint': False,\n        'max_time': 10,\n        'iterate': 1,\n        'expectation': True,  # We expect a countermodel\n    }\n]\n\nprint(\"Running model checker...\")\nmodel = create_build_example('IM_CM_10', imposition_theory, IM_CM_10_example)\n\n# Display the countermodel if found\nif model.model_structure.z3_model:\n    model.model_structure.print_to(\n        model.settings,\n        'IM_CM_10',\n        'Counterfactual Transitivity',\n        output=sys.stdout\n    )\nelse:\n    print(\"No countermodel found (unexpected!)\")"
  },
  {
   "cell_type": "markdown",
   "id": "result-2",
   "metadata": {},
   "source": [
    "### Result Interpretation\n",
    "The failure of transitivity shows that imposition semantics treats counterfactuals as highly context-sensitive. The alternative worlds created by different impositions need not chain together in the expected way, reflecting the non-monotonic nature of counterfactual reasoning.\n",
    "\n",
    "---\n",
    "\n",
    "## Example 3: Counterfactual Identity (Valid)\n",
    "\n",
    "### Background\n",
    "Despite many classical principles failing, *counterfactual identity* (A □→ A) remains valid. This captures the intuition that if A were true, then A would indeed be true - a minimal requirement for any counterfactual logic.\n",
    "\n",
    "### The Argument\n",
    "- **Premises**: None (this is a logical law)\n",
    "- **Valid Conclusion**: A □→ A\n",
    "- **Why it works**: Imposing A guarantees A holds in the resulting world"
   ]
  },
  {
   "cell_type": "code",
   "execution_count": null,
   "id": "im-th-1",
   "metadata": {},
   "outputs": [],
   "source": "# IM_TH_1: Test counterfactual identity\nIM_TH_1_example = [\n    [],                      # No premises - this is a theorem\n    ['(A \\\\boxright A)'],    # Conclusion (valid!)\n    {\n        'N': 4,\n        'contingent': False,\n        'disjoint': False,\n        'non_empty': False,\n        'non_null': False,\n        'max_time': 10,\n        'iterate': 1,\n        'expectation': False,  # We expect no countermodel (valid)\n    }\n]\n\nprint(\"Running model checker...\")\nmodel = create_build_example('IM_TH_1', imposition_theory, IM_TH_1_example)\n\n# Check validity\nif model.model_structure.z3_model:\n    print(\"UNEXPECTED: Found a countermodel to a theorem!\")\n    model.model_structure.print_to(\n        model.settings,\n        'IM_TH_1',\n        'Counterfactual Identity',\n        output=sys.stdout\n    )\nelse:\n    print(\"=\" * 70)\n    print(\"THEOREM VALIDATED: Counterfactual Identity\")\n    print(\"=\" * 70)\n    print(\"No countermodel found - the inference is VALID\")\n    print(\"\\nImposing A always creates a world where A holds.\")\n    print(\"=\" * 70)"
  },
  {
   "cell_type": "markdown",
   "id": "result-3",
   "metadata": {},
   "source": [
    "### Result Interpretation\n",
    "The validity of counterfactual identity shows that imposition semantics preserves the most basic counterfactual intuition. This provides a foundation for building more complex counterfactual reasoning.\n",
    "\n",
    "---\n",
    "\n",
    "## Example 4: Weakened Transitivity (Valid)\n",
    "\n",
    "### Background\n",
    "While full transitivity fails, a *weakened form of transitivity* holds in imposition semantics. If A□→B and (A∧B)□→C, then A□→C. This captures a more careful form of counterfactual chaining that respects the context-sensitivity of imposition.\n",
    "\n",
    "### The Argument\n",
    "- **Premises**: A □→ B, (A ∧ B) □→ C\n",
    "- **Valid Conclusion**: A □→ C\n",
    "- **Why it works**: The conjunction ensures we're considering compatible impositions"
   ]
  },
  {
   "cell_type": "code",
   "execution_count": null,
   "id": "im-th-3",
   "metadata": {},
   "outputs": [],
   "source": "# IM_TH_3: Test weakened transitivity\nIM_TH_3_example = [\n    ['(A \\\\boxright B)', '((A \\\\wedge B) \\\\boxright C)'],  # Premises\n    ['(A \\\\boxright C)'],                                    # Conclusion (valid!)\n    {\n        'N': 4,\n        'contingent': False,\n        'disjoint': False,\n        'non_empty': False,\n        'non_null': False,\n        'max_time': 10,\n        'iterate': 1,\n        'expectation': False,  # We expect no countermodel (valid)\n    }\n]\n\nprint(\"Running model checker...\")\nmodel = create_build_example('IM_TH_3', imposition_theory, IM_TH_3_example)\n\n# Check validity\nif model.model_structure.z3_model:\n    print(\"UNEXPECTED: Found a countermodel to a theorem!\")\n    model.model_structure.print_to(\n        model.settings,\n        'IM_TH_3',\n        'Weakened Transitivity',\n        output=sys.stdout\n    )\nelse:\n    print(\"=\" * 70)\n    print(\"THEOREM VALIDATED: Weakened Transitivity\")\n    print(\"=\" * 70)\n    print(\"No countermodel found - the inference is VALID\")\n    print(\"\\nThis careful form of transitivity respects the imposition structure.\")\n    print(\"=\" * 70)"
  },
  {
   "cell_type": "markdown",
   "id": "result-4",
   "metadata": {},
   "source": "### Result Interpretation\nWeakened transitivity shows that imposition semantics doesn't abandon transitivity entirely but requires more careful formulation. This principle is crucial for valid counterfactual reasoning while avoiding the paradoxes of full transitivity.\n\n---\n\n## Summary\n\nThis notebook has explored Kit Fine's imposition semantics for counterfactuals:\n\n### Invalid Principles (Countermodels)\n- **Antecedent Strengthening**: Adding to the antecedent can change the conclusion\n- **Full Transitivity**: Counterfactual chains don't necessarily compose\n\n### Valid Principles (Theorems)\n- **Counterfactual Identity**: A □→ A always holds\n- **Weakened Transitivity**: More careful forms of transitivity remain valid\n\nImposition semantics provides a truthmaker-based approach to counterfactuals that differs fundamentally from similarity-based approaches. By treating counterfactuals through state imposition rather than world similarity, it captures different intuitions about counterfactual reasoning and avoids certain classical paradoxes."
  }
 ],
 "metadata": {
  "kernelspec": {
   "display_name": "Python 3 (ipykernel)",
   "language": "python",
   "name": "python3"
  },
  "language_info": {
   "codemirror_mode": {
    "name": "ipython",
    "version": 3
   },
   "file_extension": ".py",
   "mimetype": "text/x-python",
   "name": "python",
   "nbconvert_exporter": "python",
   "pygments_lexer": "ipython3",
   "version": "3.12.8"
  }
 },
 "nbformat": 4,
 "nbformat_minor": 5
}