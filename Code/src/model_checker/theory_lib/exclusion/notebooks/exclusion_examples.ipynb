{
 "cells": [
  {
   "cell_type": "markdown",
   "id": "header",
   "metadata": {},
   "source": [
    "# Exclusion Semantics: Unilateral Witness Negation\n",
    "\n",
    "This notebook explores the exclusion semantic framework, which implements a unilateral approach to negation using witness predicates. Unlike bilateral semantics that treat verification and falsification symmetrically, exclusion semantics provides a novel approach where negation is handled through explicit witness functions.\n",
    "\n",
    "We'll examine both **countermodels** (showing where classical laws fail) and **theorems** (showing what remains valid) to understand this innovative semantic framework.\n",
    "\n",
    "## Setup and Theory Configuration"
   ]
  },
  {
   "cell_type": "code",
   "execution_count": 1,
   "id": "setup",
   "metadata": {},
   "outputs": [
    {
     "name": "stdout",
     "output_type": "stream",
     "text": [
      "Loaded exclusion theory with witness negation semantics\n",
      "Operators: \\neg, \\wedge, \\vee, \\equiv\n"
     ]
    }
   ],
   "source": [
    "# Import required modules for exclusion semantics\n",
    "import sys\n",
    "from model_checker.jupyter import create_build_example, build_and_check\n",
    "\n",
    "# Import exclusion semantic components\n",
    "from model_checker.theory_lib.exclusion.semantic import (\n",
    "    WitnessSemantics, \n",
    "    WitnessProposition, \n",
    "    WitnessStructure\n",
    ")\n",
    "from model_checker.theory_lib.exclusion.operators import witness_operators\n",
    "\n",
    "# Define the exclusion semantic theory\n",
    "exclusion_theory = {\n",
    "    \"semantics\": WitnessSemantics,\n",
    "    \"proposition\": WitnessProposition,\n",
    "    \"model\": WitnessStructure,\n",
    "    \"operators\": witness_operators,\n",
    "}\n",
    "\n",
    "print(f\"Loaded exclusion theory with witness negation semantics\")\n",
    "print(f\"Operators: {', '.join(witness_operators.operator_dictionary.keys())}\")"
   ]
  },
  {
   "cell_type": "markdown",
   "id": "section-1",
   "metadata": {},
   "source": [
    "---\n",
    "\n",
    "## Example 1: The Challenge of Double Negation\n",
    "\n",
    "### Background\n",
    "In classical logic, double negation elimination (¬¬A ⊨ A) is a fundamental principle. However, in exclusion semantics with witness predicates, this principle can fail. This happens because negation is not simply truth-value reversal but involves explicit witness functions that may not compose as expected.\n",
    "\n",
    "### The Argument\n",
    "- **Premise**: ¬¬A (not not A)\n",
    "- **Invalid Conclusion**: A\n",
    "- **Why it fails**: The witness structure for double negation may not guarantee the truth of A"
   ]
  },
  {
   "cell_type": "code",
   "execution_count": null,
   "id": "ex-cm-6",
   "metadata": {},
   "outputs": [],
   "source": "# EX_CM_6: Test double negation elimination\nEX_CM_6_example = [\n    ['\\\\neg \\\\neg A'],     # Premise: double negation of A\n    ['A'],                 # Conclusion: A (may fail!)\n    {\n        'N': 3,\n        'possible': False,\n        'contingent': True,\n        'non_empty': True,\n        'non_null': True,\n        'disjoint': False,\n        'fusion_closure': False,\n        'max_time': 5,\n        'iterate': 2,\n        'expectation': True,  # We expect a countermodel\n    }\n]\n\nprint(\"Running model checker...\")\nmodel = create_build_example('EX_CM_6', exclusion_theory, EX_CM_6_example)\n\n# Display the countermodel if found\nif model.model_structure.z3_model:\n    model.model_structure.print_to(\n        model.settings,\n        'EX_CM_6',\n        'Double Negation Elimination',\n        output=sys.stdout\n    )\nelse:\n    print(\"No countermodel found (unexpected for exclusion semantics!)\")"
  },
  {
   "cell_type": "markdown",
   "id": "result-1",
   "metadata": {},
   "source": [
    "### Result Interpretation\n",
    "The countermodel demonstrates how witness negation differs from classical negation. The witness predicates create a structure where double negation doesn't simply cancel out, revealing the non-classical nature of this semantic framework.\n",
    "\n",
    "---\n",
    "\n",
    "## Example 2: Disjunctive Syllogism Failure\n",
    "\n",
    "### Background\n",
    "*Disjunctive syllogism* (from \"A or B\" and \"not A\", conclude \"B\") is another classical principle that can fail in exclusion semantics. This failure illustrates how witness predicates interact with disjunction in unexpected ways.\n",
    "\n",
    "### The Argument\n",
    "- **Premises**: (A ∨ B), ¬A\n",
    "- **Invalid Conclusion**: B\n",
    "- **Why it fails**: The witness for ¬A doesn't necessarily force B to be true"
   ]
  },
  {
   "cell_type": "code",
   "execution_count": null,
   "id": "ex-cm-23",
   "metadata": {},
   "outputs": [],
   "source": "# EX_CM_23: Test disjunctive syllogism\nEX_CM_23_example = [\n    ['(A \\\\vee B)', '\\\\neg A'],  # Premises: A or B, and not A\n    ['B'],                        # Conclusion: B (may fail!)\n    {\n        'N': 3,\n        'possible': False,\n        'contingent': False,\n        'non_empty': False,\n        'non_null': False,\n        'disjoint': False,\n        'fusion_closure': False,\n        'max_time': 5,\n        'iterate': 2,\n        'expectation': True,  # We expect a countermodel\n    }\n]\n\nprint(\"Running model checker...\")\nmodel = create_build_example('EX_CM_23', exclusion_theory, EX_CM_23_example)\n\n# Display the countermodel if found\nif model.model_structure.z3_model:\n    model.model_structure.print_to(\n        model.settings,\n        'EX_CM_23',\n        'Disjunctive Syllogism',\n        output=sys.stdout\n    )\nelse:\n    print(\"No countermodel found (unexpected for exclusion semantics!)\")"
  },
  {
   "cell_type": "markdown",
   "id": "result-2",
   "metadata": {},
   "source": [
    "### Result Interpretation\n",
    "The failure of disjunctive syllogism shows how exclusion semantics diverges from classical logic. The witness structure allows for models where disjunction and negation interact in non-standard ways, challenging our classical intuitions.\n",
    "\n",
    "---\n",
    "\n",
    "## Example 3: Conjunction Distribution (Valid)\n",
    "\n",
    "### Background\n",
    "While many classical principles fail, some distribution laws remain valid in exclusion semantics. The distribution of conjunction over disjunction shows that not all classical theorems are lost in this framework.\n",
    "\n",
    "### The Argument\n",
    "- **Premise**: A ∧ (B ∨ C)\n",
    "- **Valid Conclusion**: (A ∧ B) ∨ (A ∧ C)\n",
    "- **Why it works**: The witness structure preserves this distribution pattern"
   ]
  },
  {
   "cell_type": "code",
   "execution_count": null,
   "id": "ex-th-3",
   "metadata": {},
   "outputs": [],
   "source": "# EX_TH_3: Test conjunction distribution (left to right)\nEX_TH_3_example = [\n    ['(A \\\\wedge (B \\\\vee C))'],           # Premise\n    ['((A \\\\wedge B) \\\\vee (A \\\\wedge C))'], # Conclusion (valid!)\n    {\n        'N': 3,\n        'possible': False,\n        'contingent': False,\n        'non_empty': False,\n        'non_null': False,\n        'disjoint': False,\n        'fusion_closure': False,\n        'max_time': 5,\n        'expectation': False,  # We expect no countermodel (valid)\n    }\n]\n\nprint(\"Running model checker...\")\nmodel = create_build_example('EX_TH_3', exclusion_theory, EX_TH_3_example)\n\n# Check validity\nif model.model_structure.z3_model:\n    print(\"UNEXPECTED: Found a countermodel to a theorem!\")\n    model.model_structure.print_to(\n        model.settings,\n        'EX_TH_3',\n        'Conjunction Distribution',\n        output=sys.stdout\n    )\nelse:\n    print(\"=\" * 70)\n    print(\"THEOREM VALIDATED: Conjunction Distribution\")\n    print(\"=\" * 70)\n    print(\"No countermodel found - the inference is VALID\")\n    print(\"\\nThis distribution law survives in exclusion semantics.\")\n    print(\"=\" * 70)"
  },
  {
   "cell_type": "markdown",
   "id": "result-3",
   "metadata": {},
   "source": [
    "### Result Interpretation\n",
    "The validity of conjunction distribution shows that exclusion semantics preserves some classical logical structure. This selective preservation helps identify which logical principles are truly fundamental versus those that depend on specific assumptions about negation.\n",
    "\n",
    "---\n",
    "\n",
    "## Example 4: De Morgan's Law Failure\n",
    "\n",
    "### Background\n",
    "*De Morgan's Laws*, which relate conjunction and disjunction through negation, can fail in exclusion semantics. This failure is particularly interesting because it shows how witness negation disrupts the duality between ∧ and ∨.\n",
    "\n",
    "### The Argument\n",
    "- **Premise**: ¬(A ∧ B)\n",
    "- **Invalid Conclusion**: (¬A ∨ ¬B)\n",
    "- **Why it fails**: Witness predicates don't distribute over conjunction as expected"
   ]
  },
  {
   "cell_type": "markdown",
   "id": "lk5fl6alse",
   "source": "## Example 5: Contraposition Failure\n\n### Background\n*Contraposition* is a fundamental principle in classical logic stating that if A implies B, then not-B implies not-A. In exclusion semantics, this principle can fail due to the asymmetric nature of witness negation.\n\n### The Argument\n- **Premise**: A → B (if A then B, defined as ¬A ∨ B)\n- **Invalid Conclusion**: ¬B → ¬A (if not B then not A)\n- **Why it fails**: Witness predicates don't preserve contraposition patterns",
   "metadata": {}
  },
  {
   "cell_type": "code",
   "id": "w0murtbb4li",
   "source": "# EX_CM_15: Test contraposition\n# Since exclusion theory doesn't have implication, we use (¬A ∨ B) for (A → B)\nEX_CM_15_example = [\n    ['(\\\\neg A \\\\vee B)'],           # Premise: A implies B\n    ['(\\\\neg \\\\neg B \\\\vee \\\\neg A)'], # Conclusion: not-B implies not-A\n    {\n        'N': 3,\n        'possible': False,\n        'contingent': True,\n        'non_empty': True,\n        'non_null': True,\n        'disjoint': False,\n        'fusion_closure': False,\n        'max_time': 5,\n        'iterate': 2,\n        'expectation': True,  # We expect a countermodel\n    }\n]\n\nprint(\"Running model checker...\")\nmodel = create_build_example('EX_CM_15', exclusion_theory, EX_CM_15_example)\n\n# Display the countermodel if found\nif model.model_structure.z3_model:\n    model.model_structure.print_to(\n        model.settings,\n        'EX_CM_15',\n        'Contraposition',\n        output=sys.stdout\n    )\nelse:\n    print(\"No countermodel found (unexpected for exclusion semantics!)\")",
   "metadata": {},
   "execution_count": null,
   "outputs": []
  },
  {
   "cell_type": "markdown",
   "id": "3anabdwkycf",
   "source": "### Result Interpretation\nThe failure of contraposition further illustrates the non-classical nature of exclusion semantics. The witness predicates for negation create directional asymmetries that break the classical equivalence between a conditional and its contrapositive.\n\n---",
   "metadata": {}
  },
  {
   "cell_type": "code",
   "execution_count": null,
   "id": "ex-cm-11",
   "metadata": {},
   "outputs": [],
   "source": "# EX_CM_11: Test De Morgan's Law\nEX_CM_11_example = [\n    ['\\\\neg (A \\\\wedge B)'],        # Premise: not (A and B)\n    ['(\\\\neg A \\\\vee \\\\neg B)'],    # Conclusion: (not A) or (not B) (may fail!)\n    {\n        'N': 3,\n        'possible': False,\n        'contingent': False,\n        'non_empty': False,\n        'non_null': False,\n        'disjoint': False,\n        'fusion_closure': False,\n        'max_time': 5,\n        'expectation': True,  # We expect a countermodel\n    }\n]\n\nprint(\"Running model checker...\")\nmodel = create_build_example('EX_CM_11', exclusion_theory, EX_CM_11_example)\n\n# Display the countermodel if found\nif model.model_structure.z3_model:\n    model.model_structure.print_to(\n        model.settings,\n        'EX_CM_11',\n        \"De Morgan's Law\",\n        output=sys.stdout\n    )\nelse:\n    print(\"No countermodel found (unexpected for exclusion semantics!)\")"
  },
  {
   "cell_type": "markdown",
   "id": "result-4",
   "metadata": {},
   "source": "### Result Interpretation\nThe failure of De Morgan's Laws reveals how deeply witness negation affects logical structure. The witness predicates create an asymmetry that breaks the classical duality between conjunction and disjunction under negation.\n\n---\n\n## Summary\n\nThis notebook has explored the exclusion semantic framework:\n\n### Invalid Classical Principles (Countermodels)\n- **Double Negation Elimination**: ¬¬A does not entail A  \n- **Disjunctive Syllogism**: From A ∨ B and ¬A, cannot conclude B\n- **De Morgan's Laws**: ¬(A ∧ B) does not entail (¬A ∨ ¬B)\n\n### Valid Principles (Theorems)\n- **Conjunction Distribution**: A ∧ (B ∨ C) entails (A ∧ B) ∨ (A ∧ C)\n\nThese examples demonstrate how exclusion semantics challenges our understanding of fundamental logical principles by showing how different approaches to negation can dramatically alter logical structure. The unilateral witness approach creates novel semantic behavior that is particularly valuable for understanding non-classical logics and the foundations of negation."
  }
 ],
 "metadata": {
  "kernelspec": {
   "display_name": "Python 3 (ipykernel)",
   "language": "python",
   "name": "python3"
  },
  "language_info": {
   "codemirror_mode": {
    "name": "ipython",
    "version": 3
   },
   "file_extension": ".py",
   "mimetype": "text/x-python",
   "name": "python",
   "nbconvert_exporter": "python",
   "pygments_lexer": "ipython3",
   "version": "3.12.8"
  }
 },
 "nbformat": 4,
 "nbformat_minor": 5
}