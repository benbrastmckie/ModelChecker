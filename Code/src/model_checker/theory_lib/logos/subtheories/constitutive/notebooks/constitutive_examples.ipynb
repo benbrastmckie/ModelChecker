{
 "cells": [
  {
   "cell_type": "markdown",
   "metadata": {},
   "source": "# Constitutive Logic Examples\n\nThis notebook demonstrates constitutive reasoning using the Logos theory framework. We explore **grounding** (≤), **essence** (⊑), and **identity** (≡) relations, showing both invalid principles through countermodels and valid theorems.\n\n## Overview\n\nConstitutive logic extends classical logic with hyperintensional operators that capture metaphysical relationships:\n- **Grounding** (≤): When one proposition makes another true\n- **Essence** (⊑): When one proposition is part of another's nature\n- **Identity** (≡): When propositions have the same constitutive content\n\nThese operators distinguish between propositions that are merely necessarily equivalent and those that are constitutively the same.\n\n## Contents\n1. **Setup** - Load the constitutive theory and operators\n2. **Identity of Tautologies Countermodel** - Not all tautologies are identical\n3. **Ground-Essence Connection Theorem** - Ground relates to essence through negation\n4. **Strict Implication vs Ground Countermodel** - Necessary implication doesn't ensure grounding\n5. **Essence-Identity Connection Theorem** - Essence relates to identity through conjunction"
  },
  {
   "cell_type": "code",
   "execution_count": null,
   "metadata": {},
   "outputs": [],
   "source": "import sys\nfrom model_checker.jupyter import create_build_example\nfrom model_checker.theory_lib.logos.semantic import LogosSemantics, LogosProposition, LogosModelStructure\nfrom model_checker.theory_lib.logos.operators import LogosOperatorRegistry\n\n# Create operator registry for constitutive theory\n# We need modal operators as well since constitutive logic builds on modal logic\nconstitutive_registry = LogosOperatorRegistry()\nconstitutive_registry.load_subtheories(['extensional', 'modal', 'constitutive'])\n\n# Build the semantic theory dictionary\nconstitutive_theory = {\n    \"semantics\": LogosSemantics,\n    \"proposition\": LogosProposition,\n    \"model\": LogosModelStructure,\n    \"operators\": constitutive_registry.get_operators(),\n}\n\nprint(\"=\" * 70)\nprint(\"CONSTITUTIVE THEORY LOADED\")\nprint(\"=\" * 70)\nprint(\"\\nAvailable constitutive operators:\")\nprint(\"  - Ground: \\\\\\\\leq (≤)\")\nprint(\"  - Essence: \\\\\\\\sqsubseteq (⊑)\")\nprint(\"  - Identity: \\\\\\\\equiv (≡)\")\nprint(\"  - Relevance: \\\\\\\\preceq (≼)\")\nprint(\"\\nThe theory also includes classical and modal operators for complex formulas.\")\nprint(\"=\" * 70)"
  },
  {
   "cell_type": "markdown",
   "source": "## Example 1: Identity of Tautologies Countermodel\n\n### Background\nIn classical logic, all tautologies are logically equivalent. However, in constitutive logic, tautologies can differ in their **constitutive content**. The tautologies (A ∨ ¬A) and (B ∨ ¬B) are both necessarily true, but they are about different propositions and thus not constitutively identical.\n\n### The Argument\nWe test whether all tautologies are constitutively identical:\n- **Invalid Conclusion**: (A ∨ ¬A) ≡ (B ∨ ¬B)\n\nThis should fail because constitutive identity requires sameness of content, not just necessary equivalence.",
   "metadata": {}
  },
  {
   "cell_type": "code",
   "source": "# CL_CM_1: Test equivalence of tautologies\nCL_CM_1_example = [\n    [],                                              # No premises\n    ['((A \\\\vee \\\\neg A) \\\\equiv (B \\\\vee \\\\neg B))'],  # Conclusion\n    {\n        'N': 4,\n        'contingent': True,\n        'non_null': False,\n        'non_empty': False,\n        'disjoint': True,\n        'max_time': 10,\n        'iterate': 2,\n        'expectation': True,  # We expect to find a countermodel\n    }\n]\n\nprint(\"Running model checker...\")\nmodel = create_build_example('CL_CM_1', constitutive_theory, CL_CM_1_example)\n\n# Display the countermodel if found\nif model.model_structure.z3_model:\n    model.model_structure.print_to(\n        model.settings,\n        'CL_CM_1',\n        'Equivalence of Tautologies',\n        output=sys.stdout\n    )\nelse:\n    print(\"No countermodel found (unexpected - tautologies should not be identical)\")",
   "metadata": {},
   "execution_count": null,
   "outputs": []
  },
  {
   "cell_type": "markdown",
   "source": "### Result Interpretation\n\nThe countermodel demonstrates that different tautologies are not constitutively identical. While (A ∨ ¬A) and (B ∨ ¬B) are both necessarily true, they have different constitutive content - one is about proposition A, the other about proposition B. This shows that constitutive identity is finer-grained than necessary equivalence.\n\n---",
   "metadata": {}
  },
  {
   "cell_type": "markdown",
   "source": "## Example 2: Ground-Essence Connection Theorem\n\n### Background\nThere is a deep connection between grounding and essence through negation. If A grounds B, then ¬A is part of the essence of ¬B. This captures the intuition that if A makes B true, then the absence of A is essential to the absence of B.\n\n### The Argument\nWe test whether the following inference is valid:\n- **Premise**: A ≤ B (A grounds B)\n- **Conclusion**: ¬A ⊑ ¬B (not-A is part of the essence of not-B)\n\nThis connection reveals how grounding and essence are dual aspects of constitutive explanation.",
   "metadata": {}
  },
  {
   "cell_type": "code",
   "source": "# CL_TH_1: Test ground to essence connection\nCL_TH_1_example = [\n    ['(A \\\\leq B)'],                      # Premise\n    ['(\\\\neg A \\\\sqsubseteq \\\\neg B)'],     # Conclusion\n    {\n        'N': 4,\n        'contingent': False,\n        'disjoint': False,\n        'non_empty': False,\n        'non_null': False,\n        'max_time': 10,\n        'iterate': 1,\n        'expectation': False,  # We expect NO countermodel (theorem is valid)\n    }\n]\n\nprint(\"Running model checker...\")\nmodel = create_build_example('CL_TH_1', constitutive_theory, CL_TH_1_example)\n\n# Display result\nif model.model_structure.z3_model:\n    print(\"UNEXPECTED: Found a countermodel to a theorem!\")\n    model.model_structure.print_to(\n        model.settings,\n        'CL_TH_1',\n        'Ground to Essence',\n        output=sys.stdout\n    )\nelse:\n    print(\"=\" * 70)\n    print(\"THEOREM VALIDATED: Ground to Essence Connection\")\n    print(\"=\" * 70)\n    print(\"No countermodel found - the inference is VALID\")\n    print(\"\\nThis confirms that: (A ≤ B) ⊨ (¬A ⊑ ¬B)\")\n    print(\"If A grounds B, then not-A is part of the essence of not-B.\")\n    print(\"=\" * 70)",
   "metadata": {},
   "execution_count": null,
   "outputs": []
  },
  {
   "cell_type": "markdown",
   "source": "### Result Interpretation\n\nThis theorem shows a fundamental duality between grounding and essence. The relationship reveals how these two constitutive relations are interconnected through negation, providing a unified framework for constitutive explanation.\n\n---",
   "metadata": {}
  },
  {
   "cell_type": "markdown",
   "source": "## Example 3: Strict Implication vs Ground Countermodel\n\n### Background\nNecessary implication (strict implication) does not guarantee a grounding relationship. Just because A necessarily implies B doesn't mean A grounds B. Grounding requires a stronger constitutive connection - A must actually make B true, not just necessarily accompany it.\n\n### The Argument\nWe test whether the following inference is valid:\n- **Premise**: □(A → B) (necessarily, if A then B)\n- **Invalid Conclusion**: A ≤ B (A grounds B)\n\nThis should fail because necessary correlation doesn't establish constitutive dependence.",
   "metadata": {}
  },
  {
   "cell_type": "code",
   "source": "# CL_CM_9: Test strict implication to ground\nCL_CM_9_example = [\n    ['\\\\Box (A \\\\rightarrow B)'],      # Premise\n    ['(A \\\\leq B)'],                  # Conclusion\n    {\n        'N': 3,\n        'contingent': True,\n        'non_null': True,\n        'non_empty': True,\n        'disjoint': False,\n        'max_time': 10,\n        'iterate': 2,\n        'expectation': True,  # We expect to find a countermodel\n    }\n]\n\nprint(\"Running model checker...\")\nmodel = create_build_example('CL_CM_9', constitutive_theory, CL_CM_9_example)\n\n# Display the countermodel if found\nif model.model_structure.z3_model:\n    model.model_structure.print_to(\n        model.settings,\n        'CL_CM_9',\n        'Strict Implication to Ground',\n        output=sys.stdout\n    )\nelse:\n    print(\"No countermodel found (unexpected - strict implication should not entail grounding)\")",
   "metadata": {},
   "execution_count": null,
   "outputs": []
  },
  {
   "cell_type": "markdown",
   "source": "### Result Interpretation\n\nThe countermodel shows that necessary implication doesn't establish grounding. Two propositions can be necessarily connected without one grounding the other. This demonstrates that grounding is a hyperintensional relation that goes beyond modal connections.\n\n---",
   "metadata": {}
  },
  {
   "cell_type": "markdown",
   "source": "## Example 4: Essence-Identity Connection Theorem\n\n### Background\nEssence and identity are closely related through conjunction. If A is part of B's essence, then the conjunction (A ∧ B) is constitutively identical to B itself. This captures the idea that adding something already essential doesn't change the constitutive content.\n\n### The Argument\nWe test whether the following inference is valid:\n- **Premise**: A ⊑ B (A is part of B's essence)\n- **Conclusion**: (A ∧ B) ≡ B (A and B together are identical to B)\n\nThis reveals how essence determines what can be \"absorbed\" into a proposition's identity.",
   "metadata": {}
  },
  {
   "cell_type": "code",
   "source": "# CL_TH_3: Test essence to identity\nCL_TH_3_example = [\n    ['(A \\\\sqsubseteq B)'],           # Premise\n    ['((A \\\\wedge B) \\\\equiv B)'],     # Conclusion\n    {\n        'N': 4,\n        'contingent': False,\n        'disjoint': False,\n        'non_empty': False,\n        'non_null': False,\n        'max_time': 10,\n        'iterate': 1,\n        'expectation': False,  # We expect NO countermodel (theorem is valid)\n    }\n]\n\nprint(\"Running model checker...\")\nmodel = create_build_example('CL_TH_3', constitutive_theory, CL_TH_3_example)\n\n# Display result\nif model.model_structure.z3_model:\n    print(\"UNEXPECTED: Found a countermodel to a theorem!\")\n    model.model_structure.print_to(\n        model.settings,\n        'CL_TH_3',\n        'Essence to Identity',\n        output=sys.stdout\n    )\nelse:\n    print(\"=\" * 70)\n    print(\"THEOREM VALIDATED: Essence to Identity\")\n    print(\"=\" * 70)\n    print(\"No countermodel found - the inference is VALID\")\n    print(\"\\nThis confirms that: (A ⊑ B) ⊨ ((A ∧ B) ≡ B)\")\n    print(\"If A is part of B's essence, then conjoining A with B yields B itself.\")\n    print(\"=\" * 70)",
   "metadata": {},
   "execution_count": null,
   "outputs": []
  },
  {
   "cell_type": "markdown",
   "source": "### Result Interpretation\n\nThis theorem demonstrates the absorption property of essence. When something is already part of a proposition's essence, adding it explicitly through conjunction doesn't change the constitutive content. This provides a test for essential containment.\n\n---\n\n## Summary\n\nThese examples demonstrate key properties of constitutive logic:\n\n### Countermodels (Invalid Principles)\n- **Tautology Non-Identity**: Different tautologies have different constitutive content\n- **Strict Implication vs Grounding**: Necessary connection doesn't ensure grounding\n\n### Theorems (Valid Principles)  \n- **Ground-Essence Duality**: Grounding and essence are connected through negation\n- **Essence Absorption**: Essential parts can be absorbed into identity\n\nThese properties make constitutive logic suitable for:\n- Analyzing metaphysical dependence and explanation\n- Distinguishing constitutive from merely modal connections\n- Capturing fine-grained semantic distinctions\n- Modeling relationships between parts and wholes",
   "metadata": {}
  }
 ],
 "metadata": {
  "kernelspec": {
   "display_name": "Python 3 (ipykernel)",
   "language": "python",
   "name": "python3"
  },
  "language_info": {
   "codemirror_mode": {
    "name": "ipython",
    "version": 3
   },
   "file_extension": ".py",
   "mimetype": "text/x-python",
   "name": "python",
   "nbconvert_exporter": "python",
   "pygments_lexer": "ipython3",
   "version": "3.12.8"
  }
 },
 "nbformat": 4,
 "nbformat_minor": 4
}