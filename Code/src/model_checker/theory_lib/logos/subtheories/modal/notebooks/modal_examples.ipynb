{
 "cells": [
  {
   "cell_type": "markdown",
   "id": "header",
   "metadata": {},
   "source": [
    "# Modal Logic in Logos Theory\n",
    "\n",
    "This notebook explores modal logic operators (□ and ◇) within the Logos semantic framework. Modal logic extends classical logic with operators for necessity and possibility, enabling reasoning about what must be true, what might be true, and relationships between different possible worlds.\n",
    "\n",
    "We'll examine both **invalid modal arguments** (countermodels) and **valid modal principles** (theorems) to understand the subtleties of modal reasoning.\n",
    "\n",
    "## Setup and Theory Configuration"
   ]
  },
  {
   "cell_type": "code",
   "execution_count": 1,
   "id": "setup",
   "metadata": {},
   "outputs": [
    {
     "name": "stdout",
     "output_type": "stream",
     "text": [
      "Loaded modal theory with 13 operators\n",
      "Key modal operators: Box (□), Diamond (◇)\n"
     ]
    }
   ],
   "source": [
    "# Import required modules for modal logic model checking\n",
    "import sys\n",
    "from model_checker.jupyter import create_build_example, build_and_check\n",
    "from model_checker.theory_lib import logos\n",
    "\n",
    "# Load modal operators along with extensional base\n",
    "from model_checker.theory_lib.logos.semantic import LogosSemantics, LogosProposition, LogosModelStructure\n",
    "from model_checker.theory_lib.logos.operators import LogosOperatorRegistry\n",
    "\n",
    "# Create operator registry for modal theory\n",
    "modal_registry = LogosOperatorRegistry()\n",
    "modal_registry.load_subtheories(['extensional', 'modal'])\n",
    "\n",
    "# Define the semantic theory with modal operators\n",
    "modal_theory = {\n",
    "    \"semantics\": LogosSemantics,\n",
    "    \"proposition\": LogosProposition,\n",
    "    \"model\": LogosModelStructure,\n",
    "    \"operators\": modal_registry.get_operators(),\n",
    "}\n",
    "\n",
    "print(f\"Loaded modal theory with {len(modal_theory['operators'].operator_dictionary)} operators\")\n",
    "print(\"Key modal operators: Box (□), Diamond (◇)\")"
   ]
  },
  {
   "cell_type": "markdown",
   "id": "section-1",
   "metadata": {},
   "source": [
    "---\n",
    "\n",
    "## Example 1: Possibility Does Not Entail Necessity\n",
    "\n",
    "### Background\n",
    "A fundamental distinction in modal logic is between *possibility* and *necessity*. Just because something is possible doesn't mean it's necessary. This captures the intuition that contingent facts exist - things that are true but could have been otherwise.\n",
    "\n",
    "### The Argument\n",
    "- **Premise**: ◇A (A is possible)\n",
    "- **Invalid Conclusion**: □A (A is necessary)\n",
    "- **Why it fails**: Something can be possible in some worlds without being true in all worlds"
   ]
  },
  {
   "cell_type": "code",
   "execution_count": null,
   "id": "mod-cm-1",
   "metadata": {},
   "outputs": [],
   "source": "# MOD_CM_1: Test possibility does not entail necessity\nMOD_CM_1_example = [\n    ['\\\\Diamond A'],      # Premise: A is possible\n    ['\\\\Box A'],          # Conclusion: A is necessary (invalid!)\n    {\n        'N': 4,\n        'contingent': True,\n        'non_null': True,\n        'non_empty': True,\n        'disjoint': False,\n        'max_time': 2,\n        'iterate': 2,\n        'expectation': True,  # We expect a countermodel\n    }\n]\n\nprint(\"Running model checker...\")\nmodel = create_build_example('MOD_CM_1', modal_theory, MOD_CM_1_example)\n\n# Display the countermodel if found\nif model.model_structure.z3_model:\n    model.model_structure.print_to(\n        model.settings,\n        'MOD_CM_1',\n        'Possibility to Necessity',\n        output=sys.stdout\n    )\nelse:\n    print(\"No countermodel found (unexpected!)\")"
  },
  {
   "cell_type": "markdown",
   "id": "result-1",
   "metadata": {},
   "source": [
    "### Result Interpretation\n",
    "The countermodel demonstrates a scenario where A is possible (true in at least one accessible world) but not necessary (false in at least one accessible world). This captures the essence of contingency - the space between the merely possible and the necessarily true.\n",
    "\n",
    "---\n",
    "\n",
    "## Example 2: Possibility to Actuality\n",
    "\n",
    "### Background\n",
    "Another common modal fallacy is inferring that because something is possible, it must be actually true. This conflates what *could be* with what *is*. Modal logic carefully distinguishes between truth at the actual world and truth at possible worlds.\n",
    "\n",
    "### The Argument\n",
    "- **Premise**: ◇A (A is possible)\n",
    "- **Invalid Conclusion**: A (A is actually true)\n",
    "- **Why it fails**: Possibility means truth in some accessible world, not necessarily the actual world"
   ]
  },
  {
   "cell_type": "code",
   "execution_count": null,
   "id": "mod-cm-2",
   "metadata": {},
   "outputs": [],
   "source": "# MOD_CM_2: Test possibility does not entail actuality\nMOD_CM_2_example = [\n    ['\\\\Diamond A'],      # Premise: A is possible\n    ['A'],                # Conclusion: A is true (invalid!)\n    {\n        'N': 4,\n        'contingent': True,\n        'non_null': True,\n        'non_empty': True,\n        'disjoint': False,\n        'max_time': 2,\n        'iterate': 1,\n        'expectation': True,  # We expect a countermodel\n    }\n]\n\nprint(\"Running model checker...\")\nmodel = create_build_example('MOD_CM_2', modal_theory, MOD_CM_2_example)\n\n# Display the countermodel if found\nif model.model_structure.z3_model:\n    model.model_structure.print_to(\n        model.settings,\n        'MOD_CM_2',\n        'Possibility to Actuality',\n        output=sys.stdout\n    )\nelse:\n    print(\"No countermodel found (unexpected!)\")"
  },
  {
   "cell_type": "markdown",
   "id": "result-2",
   "metadata": {},
   "source": [
    "### Result Interpretation\n",
    "The countermodel shows a situation where A is possible (true in some accessible world) but false at the actual world. This illustrates that modal operators quantify over possible worlds, and possibility doesn't guarantee actuality.\n",
    "\n",
    "---\n",
    "\n",
    "## Example 3: The K Axiom (Distribution)\n",
    "\n",
    "### Background\n",
    "The *K axiom* is fundamental to normal modal logics. It states that necessity distributes over implication: if it's necessary that A implies B, and A is necessary, then B must be necessary too. This principle ensures that necessary truths are closed under logical consequence.\n",
    "\n",
    "### The Argument\n",
    "- **Premises**: □(A → B) (necessarily, if A then B), □A (A is necessary)\n",
    "- **Valid Conclusion**: □B (B is necessary)\n",
    "- **Why it works**: In every world where A holds (which is all of them), B must also hold"
   ]
  },
  {
   "cell_type": "code",
   "execution_count": null,
   "id": "mod-th-5",
   "metadata": {},
   "outputs": [],
   "source": "# MOD_TH_5: Test Modal K Axiom\nMOD_TH_5_example = [\n    ['\\\\Box (A \\\\rightarrow B)', '\\\\Box A'],  # Premises\n    ['\\\\Box B'],                                # Conclusion (valid!)\n    {\n        'N': 4,\n        'contingent': False,\n        'non_null': True,\n        'non_empty': True,\n        'disjoint': False,\n        'max_time': 2,\n        'iterate': 1,\n        'expectation': False,  # We expect no countermodel (valid)\n    }\n]\n\nprint(\"Running model checker...\")\nmodel = create_build_example('MOD_TH_5', modal_theory, MOD_TH_5_example)\n\n# Check validity\nif model.model_structure.z3_model:\n    print(\"UNEXPECTED: Found a countermodel to the K Axiom!\")\n    model.model_structure.print_to(\n        model.settings,\n        'MOD_TH_5',\n        'K Axiom',\n        output=sys.stdout\n    )\nelse:\n    print(\"=\" * 70)\n    print(\"THEOREM VALIDATED: K Axiom\")\n    print(\"=\" * 70)\n    print(\"No countermodel found - the inference is VALID\")\n    print(\"\\nNecessity distributes over implication, ensuring logical closure.\")\n    print(\"=\" * 70)"
  },
  {
   "cell_type": "markdown",
   "id": "result-3",
   "metadata": {},
   "source": [
    "### Result Interpretation\n",
    "No countermodel exists because the K axiom is a validity of normal modal logic. This axiom is essential for ensuring that necessary truths behave coherently with logical implication.\n",
    "\n",
    "---\n",
    "\n",
    "## Example 4: Modal Duality\n",
    "\n",
    "### Background\n",
    "*Modal duality* expresses the fundamental relationship between necessity and possibility through negation. Saying something is necessary is equivalent to saying its negation is not possible. This duality is analogous to the relationship between universal and existential quantifiers in predicate logic.\n",
    "\n",
    "### The Argument\n",
    "- **Premise**: □A (A is necessary)\n",
    "- **Valid Conclusion**: ¬◇¬A (it's not possible that not-A)\n",
    "- **Why it works**: If A is true in all worlds, then ¬A cannot be true in any world"
   ]
  },
  {
   "cell_type": "code",
   "execution_count": null,
   "id": "mod-th-3",
   "metadata": {},
   "outputs": [],
   "source": "# MOD_TH_3: Test Modal Duality (Box to Diamond)\nMOD_TH_3_example = [\n    ['\\\\Box A'],                     # Premise: A is necessary\n    ['\\\\neg \\\\Diamond \\\\neg A'],    # Conclusion: Not possible that not-A\n    {\n        'N': 4,\n        'contingent': False,\n        'non_null': True,\n        'non_empty': True,\n        'disjoint': False,\n        'max_time': 2,\n        'iterate': 1,\n        'expectation': False,  # We expect no countermodel (valid)\n    }\n]\n\nprint(\"Running model checker...\")\nmodel = create_build_example('MOD_TH_3', modal_theory, MOD_TH_3_example)\n\n# Check validity\nif model.model_structure.z3_model:\n    print(\"UNEXPECTED: Found a countermodel to Modal Duality!\")\n    model.model_structure.print_to(\n        model.settings,\n        'MOD_TH_3',\n        'Modal Duality',\n        output=sys.stdout\n    )\nelse:\n    print(\"=\" * 70)\n    print(\"THEOREM VALIDATED: Modal Duality\")\n    print(\"=\" * 70)\n    print(\"No countermodel found - the inference is VALID\")\n    print(\"\\nNecessity and possibility are interdefinable through negation.\")\n    print(\"=\" * 70)"
  },
  {
   "cell_type": "markdown",
   "id": "result-4",
   "metadata": {},
   "source": "### Result Interpretation\nThe absence of a countermodel confirms modal duality as a theorem. This principle shows that □ and ◇ are not independent - each can be defined in terms of the other using negation, just as ∀ and ∃ are related in predicate logic.\n\n---\n\n## Summary\n\nThis notebook has explored fundamental aspects of modal logic:\n\n### Invalid Inferences (Countermodels)\n- **Possibility to Necessity**: ◇A does not entail □A\n- **Possibility to Actuality**: ◇A does not entail A\n\n### Valid Principles (Theorems)\n- **K Axiom**: Necessity distributes over implication\n- **Modal Duality**: □A entails ¬◇¬A\n\nThese examples illustrate how modal logic extends classical logic to reason about necessity, possibility, and alternative scenarios. The model-checking approach reveals the structure of possible worlds that underlies modal reasoning."
  }
 ],
 "metadata": {
  "kernelspec": {
   "display_name": "Python 3 (ipykernel)",
   "language": "python",
   "name": "python3"
  },
  "language_info": {
   "codemirror_mode": {
    "name": "ipython",
    "version": 3
   },
   "file_extension": ".py",
   "mimetype": "text/x-python",
   "name": "python",
   "nbconvert_exporter": "python",
   "pygments_lexer": "ipython3",
   "version": "3.12.8"
  }
 },
 "nbformat": 4,
 "nbformat_minor": 5
}