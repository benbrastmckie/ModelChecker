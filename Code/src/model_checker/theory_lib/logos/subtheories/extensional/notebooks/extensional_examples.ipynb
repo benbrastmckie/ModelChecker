{
 "cells": [
  {
   "cell_type": "markdown",
   "id": "a1b2c3d4",
   "metadata": {},
   "source": [
    "# Classical Extensional Logic in Logos Theory\n",
    "\n",
    "This notebook demonstrates the fundamental operators of classical propositional logic within the Logos semantic framework. Extensional logic deals with truth-functional operators where the truth value of complex propositions depends solely on the truth values of their components.\n",
    "\n",
    "We'll explore both **invalid arguments** (countermodels) and **valid arguments** (theorems) to understand the boundaries and capabilities of classical logic.\n",
    "\n",
    "## Setup and Theory Configuration"
   ]
  },
  {
   "cell_type": "code",
   "execution_count": 1,
   "id": "cell-1",
   "metadata": {},
   "outputs": [
    {
     "name": "stdout",
     "output_type": "stream",
     "text": [
      "Loaded extensional theory with 7 classical operators\n",
      "Available operators: \\neg, \\wedge, \\vee, \\top, \\bot, \\rightarrow, \\leftrightarrow\n"
     ]
    }
   ],
   "source": [
    "# Import required modules for model checking\n",
    "import sys\n",
    "from model_checker.jupyter import create_build_example, build_and_check\n",
    "from model_checker.theory_lib import logos\n",
    "\n",
    "# Load extensional operators - classical logic only\n",
    "from model_checker.theory_lib.logos.semantic import LogosSemantics, LogosProposition, LogosModelStructure\n",
    "from model_checker.theory_lib.logos.operators import LogosOperatorRegistry\n",
    "\n",
    "# Create operator registry for extensional theory\n",
    "ext_registry = LogosOperatorRegistry()\n",
    "ext_registry.load_subtheories(['extensional'])\n",
    "\n",
    "# Define the semantic theory with classical operators\n",
    "ext_theory = {\n",
    "    \"semantics\": LogosSemantics,\n",
    "    \"proposition\": LogosProposition,\n",
    "    \"model\": LogosModelStructure,\n",
    "    \"operators\": ext_registry.get_operators(),\n",
    "}\n",
    "\n",
    "print(f\"Loaded extensional theory with {len(ext_theory['operators'].operator_dictionary)} classical operators\")\n",
    "print(f\"Available operators: {', '.join(ext_theory['operators'].operator_dictionary.keys())}\")"
   ]
  },
  {
   "cell_type": "markdown",
   "id": "section-1",
   "metadata": {},
   "source": [
    "---\n",
    "\n",
    "## Example 1: The Fallacy of Affirming the Consequent\n",
    "\n",
    "### Background\n",
    "One of the most common logical fallacies is *affirming the consequent*. This occurs when we observe that B is true, know that \"if A then B\", and incorrectly conclude that A must be true. This reasoning is invalid because B could be true for reasons other than A.\n",
    "\n",
    "### The Argument\n",
    "- **Premises**: B is true, A → B (if A then B)\n",
    "- **Invalid Conclusion**: A is true\n",
    "- **Why it fails**: B being true doesn't tell us which antecedent caused it"
   ]
  },
  {
   "cell_type": "code",
   "execution_count": null,
   "id": "ext-cm-2",
   "metadata": {},
   "outputs": [],
   "source": "# EXT_CM_2: Test affirming the consequent fallacy\nEXT_CM_2_example = [\n    ['B', '(A \\\\rightarrow B)'],  # Premises: B is true, and if A then B\n    ['A'],                         # Conclusion: A is true (invalid!)\n    {\n        'N': 4,\n        'contingent': True,\n        'non_null': True,\n        'non_empty': True,\n        'disjoint': False,\n        'max_time': 1,\n        'iterate': 3,\n        'expectation': True,  # We expect a countermodel (invalid argument)\n    }\n]\n\nprint(\"Running model checker...\")\nmodel = create_build_example('EXT_CM_2', ext_theory, EXT_CM_2_example)\n\n# Display the countermodel if found\nif model.model_structure.z3_model:\n    model.model_structure.print_to(\n        model.settings,\n        'EXT_CM_2',\n        'Affirming the Consequent',\n        output=sys.stdout\n    )\nelse:\n    print(\"No countermodel found (unexpected - this should be invalid!)\")"
  },
  {
   "cell_type": "markdown",
   "id": "result-1",
   "metadata": {},
   "source": [
    "### Result Interpretation\n",
    "The countermodel shows a situation where both premises are true (B is true and A → B holds) but the conclusion A is false. This demonstrates that the argument form is invalid. In the model, B can be true independently of A, which is precisely what makes affirming the consequent a fallacy.\n",
    "\n",
    "---\n",
    "\n",
    "## Example 2: Modus Ponens (Valid Inference)\n",
    "\n",
    "### Background\n",
    "*Modus Ponens* is one of the most fundamental valid inference rules in logic. It states that if we know \"if A then B\" and we know that A is true, we can validly conclude that B is true. This form of reasoning is the backbone of mathematical proofs and logical deduction.\n",
    "\n",
    "### The Argument\n",
    "- **Premises**: A is true, A → B (if A then B)\n",
    "- **Valid Conclusion**: B is true\n",
    "- **Why it works**: The conditional guarantees B whenever A holds"
   ]
  },
  {
   "cell_type": "code",
   "execution_count": null,
   "id": "ext-th-1",
   "metadata": {},
   "outputs": [],
   "source": "# EXT_TH_1: Test Modus Ponens - fundamental valid inference\nEXT_TH_1_example = [\n    ['A', '(A \\\\rightarrow B)'],  # Premises: A is true, and if A then B\n    ['B'],                         # Conclusion: B is true (valid!)\n    {\n        'N': 3,\n        'contingent': False,\n        'non_null': True,\n        'non_empty': True,\n        'disjoint': False,\n        'max_time': 1,\n        'iterate': 1,\n        'expectation': False,  # We expect no countermodel (valid argument)\n    }\n]\n\nprint(\"Running model checker...\")\nmodel = create_build_example('EXT_TH_1', ext_theory, EXT_TH_1_example)\n\n# Check validity\nif model.model_structure.z3_model:\n    print(\"UNEXPECTED: Found a countermodel to Modus Ponens!\")\n    model.model_structure.print_to(\n        model.settings,\n        'EXT_TH_1',\n        'Modus Ponens',\n        output=sys.stdout\n    )\nelse:\n    print(\"=\" * 70)\n    print(\"THEOREM VALIDATED: Modus Ponens\")\n    print(\"=\" * 70)\n    print(\"No countermodel found - the inference is VALID\")\n    print(\"\\nIn every model where A is true and A → B holds, B must be true.\")\n    print(\"=\" * 70)"
  },
  {
   "cell_type": "markdown",
   "id": "result-2",
   "metadata": {},
   "source": [
    "### Result Interpretation\n",
    "No countermodel can be found because Modus Ponens is a valid argument form. The semantic framework confirms that in every possible model where both premises are satisfied, the conclusion necessarily follows. This validates our logical intuition about this fundamental inference rule.\n",
    "\n",
    "---\n",
    "\n",
    "## Example 3: De Morgan's Law (First Form)\n",
    "\n",
    "### Background\n",
    "*De Morgan's Laws* are fundamental equivalences in logic that relate conjunction and disjunction through negation. The first law states that \"not (A and B)\" is equivalent to \"(not A) or (not B)\". This principle is crucial in simplifying logical expressions and in digital circuit design.\n",
    "\n",
    "### The Argument\n",
    "- **Premise**: ¬(A ∧ B) (not both A and B)\n",
    "- **Valid Conclusion**: (¬A ∨ ¬B) (either not A or not B)\n",
    "- **Why it works**: If it's not the case that both hold, at least one must fail"
   ]
  },
  {
   "cell_type": "code",
   "execution_count": null,
   "id": "ext-th-7",
   "metadata": {},
   "outputs": [],
   "source": "# EXT_TH_7: Test De Morgan's Law (First Form)\nEXT_TH_7_example = [\n    ['\\\\neg (A \\\\wedge B)'],         # Premise: Not (A and B)\n    ['(\\\\neg A \\\\vee \\\\neg B)'],     # Conclusion: (Not A) or (Not B)\n    {\n        'N': 3,\n        'contingent': False,\n        'non_null': True,\n        'non_empty': True,\n        'disjoint': False,\n        'max_time': 1,\n        'iterate': 1,\n        'expectation': False,  # We expect no countermodel (valid law)\n    }\n]\n\nprint(\"Running model checker...\")\nmodel = create_build_example('EXT_TH_7', ext_theory, EXT_TH_7_example)\n\n# Check validity\nif model.model_structure.z3_model:\n    print(\"UNEXPECTED: Found a countermodel to De Morgan's Law!\")\n    model.model_structure.print_to(\n        model.settings,\n        'EXT_TH_7',\n        'De Morgan\\'s First Law',\n        output=sys.stdout\n    )\nelse:\n    print(\"=\" * 70)\n    print(\"THEOREM VALIDATED: De Morgan's First Law\")\n    print(\"=\" * 70)\n    print(\"No countermodel found - the inference is VALID\")\n    print(\"\\nThe negation of a conjunction equals the disjunction of negations.\")\n    print(\"=\" * 70)"
  },
  {
   "cell_type": "markdown",
   "id": "result-3",
   "metadata": {},
   "source": [
    "### Result Interpretation\n",
    "The absence of a countermodel confirms De Morgan's First Law as a logical theorem. This law is not just a convenient equivalence but a necessary truth of classical logic, holding in all possible models.\n",
    "\n",
    "---\n",
    "\n",
    "## Example 4: Law of Excluded Middle\n",
    "\n",
    "### Background\n",
    "The *Law of Excluded Middle* states that for any proposition A, either A or not-A must be true. This is a cornerstone of classical logic, though it's rejected in some non-classical logics like intuitionistic logic. It expresses the idea that every proposition has a definite truth value.\n",
    "\n",
    "### The Argument\n",
    "- **Premises**: None (this is a logical law)\n",
    "- **Valid Conclusion**: A ∨ ¬A (A or not A)\n",
    "- **Why it works**: In classical logic, every proposition is either true or false"
   ]
  },
  {
   "cell_type": "code",
   "execution_count": null,
   "id": "ext-th-6",
   "metadata": {},
   "outputs": [],
   "source": "# EXT_TH_6: Test Law of Excluded Middle\nEXT_TH_6_example = [\n    [],                            # No premises - this is a tautology\n    ['(A \\\\vee \\\\neg A)'],         # Conclusion: A or not A\n    {\n        'N': 3,\n        'contingent': False,\n        'non_null': True,\n        'non_empty': True,\n        'disjoint': False,\n        'max_time': 1,\n        'iterate': 1,\n        'expectation': False,  # We expect no countermodel (tautology)\n    }\n]\n\nprint(\"Running model checker...\")\nmodel = create_build_example('EXT_TH_6', ext_theory, EXT_TH_6_example)\n\n# Check validity\nif model.model_structure.z3_model:\n    print(\"UNEXPECTED: Found a countermodel to the Law of Excluded Middle!\")\n    model.model_structure.print_to(\n        model.settings,\n        'EXT_TH_6',\n        'Law of Excluded Middle',\n        output=sys.stdout\n    )\nelse:\n    print(\"=\" * 70)\n    print(\"THEOREM VALIDATED: Law of Excluded Middle\")\n    print(\"=\" * 70)\n    print(\"No countermodel found - the tautology is VALID\")\n    print(\"\\nThis tautology holds in every classical model without exception.\")\n    print(\"=\" * 70)"
  },
  {
   "cell_type": "markdown",
   "id": "result-4",
   "metadata": {},
   "source": "### Result Interpretation\nThe Law of Excluded Middle is validated as a tautology - true in all models regardless of how we interpret the atomic propositions. This fundamental principle distinguishes classical logic from many non-classical alternatives.\n\n---\n\n## Summary\n\nThis notebook has demonstrated key aspects of classical extensional logic:\n\n### Invalid Arguments (Countermodels)\n- **Affirming the Consequent**: From B and A → B, cannot conclude A\n\n### Valid Arguments (Theorems)\n- **Modus Ponens**: From A and A → B, can conclude B\n- **De Morgan's First Law**: ¬(A ∧ B) entails (¬A ∨ ¬B)\n- **Law of Excluded Middle**: A ∨ ¬A is always true\n\nThese examples showcase the model-checking approach to logic: arguments are valid when no countermodel exists, and invalid arguments are demonstrated through explicit countermodels. The extensional operators (∧, ∨, ¬, →, ↔) form the foundation for more complex logical systems explored in other notebooks."
  }
 ],
 "metadata": {
  "kernelspec": {
   "display_name": "Python 3 (ipykernel)",
   "language": "python",
   "name": "python3"
  },
  "language_info": {
   "codemirror_mode": {
    "name": "ipython",
    "version": 3
   },
   "file_extension": ".py",
   "mimetype": "text/x-python",
   "name": "python",
   "nbconvert_exporter": "python",
   "pygments_lexer": "ipython3",
   "version": "3.12.8"
  }
 },
 "nbformat": 4,
 "nbformat_minor": 5
}