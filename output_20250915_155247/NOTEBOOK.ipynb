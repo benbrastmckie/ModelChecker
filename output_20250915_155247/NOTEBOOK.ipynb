{
 "cells": [
{
 "cell_type": "markdown",
 "metadata": {},
 "source": [
  "# Counterfactual Logic Examples\n",
  "\n",
  "Generated from examples.py - 2025-09-15\n",
  "\n",
  "This notebook contains runnable examples for the Counterfactual Logic theory.\n",
  "Execute each cell to see countermodels or theorem validations.\n"
 ]
},
{
 "cell_type": "code",
 "metadata": {},
 "source": [
  "import sys\n",
  "from model_checker.jupyter import create_build_example\n",
  "from model_checker.theory_lib.logos.semantic import LogosSemantics, LogosProposition, LogosModelStructure\n",
  "from model_checker.theory_lib.logos.operators import LogosOperatorRegistry\n",
  "\n",
  "# Create operator registry for counterfactual theory\n",
  "# We need modal operators as well since counterfactuals build on modal logic\n",
  "counterfactual_registry = LogosOperatorRegistry()\n",
  "counterfactual_registry.load_subtheories(['extensional', 'modal', 'counterfactual'])\n",
  "\n",
  "# Build the semantic theory dictionary\n",
  "theory = {\n",
  "    'semantics': LogosSemantics,\n",
  "    'proposition': LogosProposition,\n",
  "    'model': LogosModelStructure,\n",
  "    'operators': counterfactual_registry.get_operators(),\n",
  "}\n",
  "\n",
  "print('=' * 70)\n",
  "print('Counterfactual Logic LOADED')\n",
  "print('=' * 70)\n",
  "print('Using Logos framework with counterfactual operators')\n",
  "# Display available operators\n",
  "print('=' * 70)\n"
 ],
 "outputs": [],
 "execution_count": null
},
{
 "cell_type": "markdown",
 "metadata": {},
 "source": [
  "## CF_CM_1\n",
  "### Test for Countermodel\n"
 ]
},
{
 "cell_type": "code",
 "metadata": {},
 "source": [
  "# CF_CM_1: Test for Countermodel\n",
  "cf_cm_1 = [\n",
  "    [\"\\\\neg A\", \"(A \\\\boxright C)\"],\n",
  "    [\"((A \\\\wedge B) \\\\boxright C)\"],\n",
  "    {\n",
  "        'N': 4,\n",
  "        'contingent': True,\n",
  "        'non_null': True,\n",
  "        'non_empty': True,\n",
  "        'disjoint': False,\n",
  "        'max_time': 10,\n",
  "        'iterate': 2,\n",
  "        'expectation': True,\n",
  "    }\n",
  "]\n",
  "\n",
  "print('Running model checker...')\n",
  "model = create_build_example('CF_CM_1', theory, cf_cm_1)\n",
  "\n",
  "# Display the results\n",
  "if model.model_structure.z3_model:\n",
  "    model.model_structure.print_to(\n",
  "        model.settings,\n",
  "        'CF_CM_1',\n",
  "        theory['semantics'].__name__,\n",
  "        output=sys.stdout\n",
  "    )\n",
  "else:\n",
  "    print('=' * 70)\n",
  "    print('THEOREM VALIDATED: CF_CM_1')\n",
  "    print('=' * 70)\n",
  "    print('No countermodel found - the inference is VALID')\n",
  "    print('=' * 70)\n"
 ],
 "outputs": [],
 "execution_count": null
},
{
 "cell_type": "markdown",
 "metadata": {},
 "source": [
  "### Result Interpretation\n",
  "[To be added after running the example]\n"
 ]
},
{
 "cell_type": "markdown",
 "metadata": {},
 "source": [
  "## CF_CM_7\n",
  "### Test for Countermodel\n"
 ]
},
{
 "cell_type": "code",
 "metadata": {},
 "source": [
  "# CF_CM_7: Test for Countermodel\n",
  "cf_cm_7 = [\n",
  "    [\"(A \\\\boxright B)\"],\n",
  "    [\"(\\\\neg B \\\\boxright \\\\neg A)\"],\n",
  "    {\n",
  "        'N': 4,\n",
  "        'contingent': True,\n",
  "        'non_null': True,\n",
  "        'non_empty': True,\n",
  "        'disjoint': False,\n",
  "        'max_time': 10,\n",
  "        'iterate': 1,\n",
  "        'expectation': True,\n",
  "    }\n",
  "]\n",
  "\n",
  "print('Running model checker...')\n",
  "model = create_build_example('CF_CM_7', theory, cf_cm_7)\n",
  "\n",
  "# Display the results\n",
  "if model.model_structure.z3_model:\n",
  "    model.model_structure.print_to(\n",
  "        model.settings,\n",
  "        'CF_CM_7',\n",
  "        theory['semantics'].__name__,\n",
  "        output=sys.stdout\n",
  "    )\n",
  "else:\n",
  "    print('=' * 70)\n",
  "    print('THEOREM VALIDATED: CF_CM_7')\n",
  "    print('=' * 70)\n",
  "    print('No countermodel found - the inference is VALID')\n",
  "    print('=' * 70)\n"
 ],
 "outputs": [],
 "execution_count": null
},
{
 "cell_type": "markdown",
 "metadata": {},
 "source": [
  "### Result Interpretation\n",
  "[To be added after running the example]\n"
 ]
},
{
 "cell_type": "markdown",
 "metadata": {},
 "source": [
  "## CF_TH_5\n",
  "### Test for Theorem\n"
 ]
},
{
 "cell_type": "code",
 "metadata": {},
 "source": [
  "# CF_TH_5: Test for Theorem\n",
  "cf_th_5 = [\n",
  "    [\"((A \\\\vee B) \\\\boxright C)\"],\n",
  "    [\"(A \\\\boxright C)\"],\n",
  "    {\n",
  "        'N': 4,\n",
  "        'contingent': False,\n",
  "        'disjoint': False,\n",
  "        'non_empty': False,\n",
  "        'non_null': False,\n",
  "        'max_time': 10,\n",
  "        'iterate': 1,\n",
  "        'expectation': False,\n",
  "    }\n",
  "]\n",
  "\n",
  "print('Running model checker...')\n",
  "model = create_build_example('CF_TH_5', theory, cf_th_5)\n",
  "\n",
  "# Display the results\n",
  "if model.model_structure.z3_model:\n",
  "    model.model_structure.print_to(\n",
  "        model.settings,\n",
  "        'CF_TH_5',\n",
  "        theory['semantics'].__name__,\n",
  "        output=sys.stdout\n",
  "    )\n",
  "else:\n",
  "    print('=' * 70)\n",
  "    print('THEOREM VALIDATED: CF_TH_5')\n",
  "    print('=' * 70)\n",
  "    print('No countermodel found - the inference is VALID')\n",
  "    print('=' * 70)\n"
 ],
 "outputs": [],
 "execution_count": null
},
{
 "cell_type": "markdown",
 "metadata": {},
 "source": [
  "### Result Interpretation\n",
  "[To be added after running the example]\n"
 ]
},
{
 "cell_type": "markdown",
 "metadata": {},
 "source": [
  "## CF_TH_10\n",
  "### Test for Theorem\n"
 ]
},
{
 "cell_type": "code",
 "metadata": {},
 "source": [
  "# CF_TH_10: Test for Theorem\n",
  "cf_th_10 = [\n",
  "    [\"A\", \"B\"],\n",
  "    [\"(A \\\\diamondright B)\"],\n",
  "    {\n",
  "        'N': 4,\n",
  "        'contingent': False,\n",
  "        'disjoint': False,\n",
  "        'non_empty': False,\n",
  "        'non_null': False,\n",
  "        'max_time': 10,\n",
  "        'iterate': 1,\n",
  "        'expectation': False,\n",
  "    }\n",
  "]\n",
  "\n",
  "print('Running model checker...')\n",
  "model = create_build_example('CF_TH_10', theory, cf_th_10)\n",
  "\n",
  "# Display the results\n",
  "if model.model_structure.z3_model:\n",
  "    model.model_structure.print_to(\n",
  "        model.settings,\n",
  "        'CF_TH_10',\n",
  "        theory['semantics'].__name__,\n",
  "        output=sys.stdout\n",
  "    )\n",
  "else:\n",
  "    print('=' * 70)\n",
  "    print('THEOREM VALIDATED: CF_TH_10')\n",
  "    print('=' * 70)\n",
  "    print('No countermodel found - the inference is VALID')\n",
  "    print('=' * 70)\n"
 ],
 "outputs": [],
 "execution_count": null
},
{
 "cell_type": "markdown",
 "metadata": {},
 "source": [
  "### Result Interpretation\n",
  "[To be added after running the example]\n"
 ]
},
{
 "cell_type": "markdown",
 "metadata": {},
 "source": [
  "## Summary\n",
  "### Final Evaluation\n",
  "[To be completed by user after running all examples]\n"
 ]
}
 ],
 "metadata": {
  "kernelspec": {
   "display_name": "Python 3 (ipykernel)",
   "language": "python",
   "name": "python3"
  },
  "language_info": {
   "name": "python",
   "version": "3.12.0"
  }
 },
 "nbformat": 4,
 "nbformat_minor": 4
}
